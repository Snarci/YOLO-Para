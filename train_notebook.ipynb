{
 "cells": [
  {
   "cell_type": "code",
   "execution_count": null,
   "metadata": {},
   "outputs": [],
   "source": [
    "from ultralytics import YOLO\n",
    "\n"
   ]
  },
  {
   "cell_type": "code",
   "execution_count": null,
   "metadata": {},
   "outputs": [],
   "source": [
    "# Load a model\n",
    "\n",
    "data = 'data/100xLCM.yaml'\n",
    "single_cls = True\n",
    "pretrained = True\n",
    "\n",
    "model = YOLO('configs/yolov8_SPAM_2H.yaml')  # load yaml and start form scratch\n",
    "# Train the model\n",
    "model.train(\n",
    "    name='yolov8s_1000ep_sgd', \n",
    "    data=data,\n",
    "    pretrained=pretrained,\n",
    "    epochs = 2,\n",
    "    imgsz = 640,\n",
    "    patience = 100,\n",
    "    batch = 2, #auto batch size\n",
    "    save_period = -1, #only save final checkpoint and best checkpoint\n",
    "    optimizer = 'SGD',\n",
    "    single_cls = single_cls,\n",
    "    deterministic = False\n",
    "    )\n",
    "\n",
    "# Evaluate the model\n",
    "model.val(\n",
    "    data=data,\n",
    "    batch_size=1,\n",
    "    imgsz=640,\n",
    "    conf_thres=0.001,  # confidence threshold (default 0.001)\n",
    "    iou_thres=0.6,  # NMS IOU threshold (default 0.6)\n",
    "    save_json=True,  # save a cocoapi-compatible JSON results file\n",
    "    single_cls=single_cls,  # treat as single-class dataset\n",
    "    deterministic = False\n",
    "    )"
   ]
  }
 ],
 "metadata": {
  "kernelspec": {
   "display_name": "Python 3",
   "language": "python",
   "name": "python3"
  },
  "language_info": {
   "codemirror_mode": {
    "name": "ipython",
    "version": 3
   },
   "file_extension": ".py",
   "mimetype": "text/x-python",
   "name": "python",
   "nbconvert_exporter": "python",
   "pygments_lexer": "ipython3",
   "version": "3.9.0"
  },
  "orig_nbformat": 4
 },
 "nbformat": 4,
 "nbformat_minor": 2
}
